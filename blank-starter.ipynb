{
 "cells": [
  {
   "cell_type": "markdown",
   "metadata": {
    "id": "1iri1CFJyl1i"
   },
   "source": [
    "# **Classifying rock, paper and scissors images using ResNets, Regularization and Data Augmentation in PyTorch**"
   ]
  },
  {
   "cell_type": "markdown",
   "metadata": {
    "id": "f15DEv-n0oe5"
   },
   "source": [
    "## **Data download and description**\r\n",
    "The dataset has been downloaded from Kaggle Dataset. This dataset contains images of hand gestures from the Rock-Paper-Scissors game. \r\n",
    "The dataset contains a total of 2188 images corresponding to the 'Rock' (726 images), 'Paper' (710 images) and 'Scissors' (752 images) hand gestures of the Rock-Paper-Scissors game.\r\n",
    "All images are RGB images of 300 pixels wide by 200 pixels high in .png format. The images are separated in three sub-folders named 'rock', 'paper' and 'scissors' according to their respective class."
   ]
  },
  {
   "cell_type": "code",
   "execution_count": 8,
   "metadata": {
    "executionInfo": {
     "elapsed": 5105,
     "status": "ok",
     "timestamp": 1610190637320,
     "user": {
      "displayName": "Nayana Kamtekar",
      "photoUrl": "",
      "userId": "11002029202013759766"
     },
     "user_tz": -60
    },
    "id": "cTVCX7YBgE6U"
   },
   "outputs": [],
   "source": [
    "!pip install jovian --upgrade --quiet"
   ]
  },
  {
   "cell_type": "code",
   "execution_count": 9,
   "metadata": {
    "executionInfo": {
     "elapsed": 5101,
     "status": "ok",
     "timestamp": 1610190637321,
     "user": {
      "displayName": "Nayana Kamtekar",
      "photoUrl": "",
      "userId": "11002029202013759766"
     },
     "user_tz": -60
    },
    "id": "6P7RjPdKlxfq"
   },
   "outputs": [],
   "source": [
    "project_name = 'final-project-zero-to-gnas-rockpaperscissors'"
   ]
  },
  {
   "cell_type": "code",
   "execution_count": 10,
   "metadata": {
    "executionInfo": {
     "elapsed": 7447,
     "status": "ok",
     "timestamp": 1610190639671,
     "user": {
      "displayName": "Nayana Kamtekar",
      "photoUrl": "",
      "userId": "11002029202013759766"
     },
     "user_tz": -60
    },
    "id": "CfvskmZIgE6V"
   },
   "outputs": [],
   "source": [
    "!pip install opendatasets --upgrade --quiet"
   ]
  },
  {
   "cell_type": "code",
   "execution_count": 11,
   "metadata": {
    "executionInfo": {
     "elapsed": 7443,
     "status": "ok",
     "timestamp": 1610190639672,
     "user": {
      "displayName": "Nayana Kamtekar",
      "photoUrl": "",
      "userId": "11002029202013759766"
     },
     "user_tz": -60
    },
    "id": "koLkp_K1inL9"
   },
   "outputs": [],
   "source": [
    "import os\r\n",
    "import torch\r\n",
    "import torchvision\r\n",
    "from torch.utils.data import random_split\r\n",
    "import opendatasets as od"
   ]
  },
  {
   "cell_type": "code",
   "execution_count": 12,
   "metadata": {
    "colab": {
     "base_uri": "https://localhost:8080/"
    },
    "executionInfo": {
     "elapsed": 36810,
     "status": "ok",
     "timestamp": 1610190669051,
     "user": {
      "displayName": "Nayana Kamtekar",
      "photoUrl": "",
      "userId": "11002029202013759766"
     },
     "user_tz": -60
    },
    "id": "BKY1HI7Miq_c",
    "outputId": "1f46692b-06dc-427a-ba1c-784f1933f662"
   },
   "outputs": [
    {
     "name": "stdout",
     "output_type": "stream",
     "text": [
      "Please provide your Kaggle credentials to download this dataset. Learn more: http://bit.ly/kaggle-creds\n",
      "Your Kaggle username: nayanakamtekar\n",
      "Your Kaggle Key: ··········\n"
     ]
    },
    {
     "name": "stderr",
     "output_type": "stream",
     "text": [
      "  3%|▎         | 9.00M/306M [00:00<00:04, 72.9MB/s]"
     ]
    },
    {
     "name": "stdout",
     "output_type": "stream",
     "text": [
      "Downloading rockpaperscissors.zip to ./rockpaperscissors\n"
     ]
    },
    {
     "name": "stderr",
     "output_type": "stream",
     "text": [
      "100%|██████████| 306M/306M [00:02<00:00, 158MB/s]\n"
     ]
    },
    {
     "name": "stdout",
     "output_type": "stream",
     "text": [
      "\n"
     ]
    }
   ],
   "source": [
    "od.download('https://www.kaggle.com/drgfreeman/rockpaperscissors/download')"
   ]
  },
  {
   "cell_type": "markdown",
   "metadata": {
    "id": "ISDCRIUglVLw"
   },
   "source": [
    "Datasets are dowloaded from kaggle (use your username and key to download). The contains 3 folders `paper`, `rock` and `scissors`. Lets verify this"
   ]
  },
  {
   "cell_type": "code",
   "execution_count": 13,
   "metadata": {
    "colab": {
     "base_uri": "https://localhost:8080/"
    },
    "executionInfo": {
     "elapsed": 36802,
     "status": "ok",
     "timestamp": 1610190669053,
     "user": {
      "displayName": "Nayana Kamtekar",
      "photoUrl": "",
      "userId": "11002029202013759766"
     },
     "user_tz": -60
    },
    "id": "3KNl5Rcni8i3",
    "outputId": "f40f08f4-f682-45ff-d439-351824a3a181"
   },
   "outputs": [
    {
     "name": "stdout",
     "output_type": "stream",
     "text": [
      "['paper', 'scissors', 'README_rpc-cv-images.txt', 'rock']\n",
      "['paper', 'scissors', 'README_rpc-cv-images.txt', 'rock']\n"
     ]
    }
   ],
   "source": [
    "data_dir = './rockpaperscissors/rps-cv-images'\r\n",
    "\r\n",
    "print(os.listdir(data_dir))\r\n",
    "classes = os.listdir(data_dir)\r\n",
    "print(classes)"
   ]
  },
  {
   "cell_type": "markdown",
   "metadata": {
    "id": "MN5TGJo3mpv5"
   },
   "source": [
    "Lets look inside `paper`folder"
   ]
  },
  {
   "cell_type": "code",
   "execution_count": 14,
   "metadata": {
    "colab": {
     "base_uri": "https://localhost:8080/"
    },
    "executionInfo": {
     "elapsed": 36796,
     "status": "ok",
     "timestamp": 1610190669053,
     "user": {
      "displayName": "Nayana Kamtekar",
      "photoUrl": "",
      "userId": "11002029202013759766"
     },
     "user_tz": -60
    },
    "id": "y-MJbQKbkEbr",
    "outputId": "968aeda1-f69a-47f2-855f-fa3388b54813"
   },
   "outputs": [
    {
     "name": "stdout",
     "output_type": "stream",
     "text": [
      "No. of training examples for paper: 712\n",
      "['n5NXfZTRonR4iOr0.png', 'hWVwQVI74lc5zgyK.png', 'X3iDu3E3UCW1w1Cd.png', 'tlZ31lJJt1OhSr0a.png', '0RA9rcrv8iVvuDDU.png']\n"
     ]
    }
   ],
   "source": [
    "paper_files = os.listdir(data_dir + \"/paper\")\r\n",
    "print('No. of training examples for paper:', len(paper_files))\r\n",
    "print(paper_files[:5])"
   ]
  },
  {
   "cell_type": "markdown",
   "metadata": {
    "id": "L0HBifmRnuAB"
   },
   "source": [
    "The above directory structure (one folder per class) is used by many computer vision datasets, and most deep learning libraries provide utilites for working with such datasets. We can use the ImageFolder class from torchvision to load the data as PyTorch tensors."
   ]
  },
  {
   "cell_type": "code",
   "execution_count": 15,
   "metadata": {
    "executionInfo": {
     "elapsed": 36791,
     "status": "ok",
     "timestamp": 1610190669053,
     "user": {
      "displayName": "Nayana Kamtekar",
      "photoUrl": "",
      "userId": "11002029202013759766"
     },
     "user_tz": -60
    },
    "id": "y7uoXn26nYt4"
   },
   "outputs": [],
   "source": [
    "import torchvision.transforms as transforms\r\n",
    "from torchvision.datasets import ImageFolder\r\n",
    "from torchvision.transforms import ToTensor"
   ]
  },
  {
   "cell_type": "markdown",
   "metadata": {
    "id": "wZUxIdVYn3At"
   },
   "source": [
    "We can create dataset using the ImageFolder class from torchvision. In addition to the ToTensor transform, we'll also apply some other transforms to the images. There are a few important changes we'll make while creating PyTorch datasets for training and validation:\r\n",
    "\r\n",
    "**Resizing the image**: The images in the dataset are of varying sizes with 3 channels. We have resized the image to 64 X 64 pixels."
   ]
  },
  {
   "cell_type": "code",
   "execution_count": 16,
   "metadata": {
    "executionInfo": {
     "elapsed": 36786,
     "status": "ok",
     "timestamp": 1610190669054,
     "user": {
      "displayName": "Nayana Kamtekar",
      "photoUrl": "",
      "userId": "11002029202013759766"
     },
     "user_tz": -60
    },
    "id": "sRWnY_rfk2bJ"
   },
   "outputs": [],
   "source": [
    "tfms = transforms.Compose([\r\n",
    "        transforms.Resize([64, 64]),\r\n",
    "        transforms.ToTensor(),\r\n",
    "])\r\n",
    "dataset = ImageFolder(data_dir, transform=tfms)"
   ]
  },
  {
   "cell_type": "markdown",
   "metadata": {
    "id": "wT93dL4eoSFe"
   },
   "source": [
    "## **Image shape and Tensor**"
   ]
  },
  {
   "cell_type": "code",
   "execution_count": 17,
   "metadata": {
    "colab": {
     "base_uri": "https://localhost:8080/"
    },
    "executionInfo": {
     "elapsed": 37004,
     "status": "ok",
     "timestamp": 1610190669320,
     "user": {
      "displayName": "Nayana Kamtekar",
      "photoUrl": "",
      "userId": "11002029202013759766"
     },
     "user_tz": -60
    },
    "id": "IciwgRiBk9n9",
    "outputId": "5e2dbf14-77ab-4b06-8e57-4c58682002af"
   },
   "outputs": [
    {
     "name": "stdout",
     "output_type": "stream",
     "text": [
      "torch.Size([3, 64, 64]) 0\n"
     ]
    },
    {
     "data": {
      "text/plain": [
       "tensor([[[0.0706, 0.0784, 0.0902,  ..., 0.0706, 0.0588, 0.0392],\n",
       "         [0.0745, 0.0824, 0.0941,  ..., 0.0667, 0.0471, 0.0314],\n",
       "         [0.0784, 0.0902, 0.0980,  ..., 0.0510, 0.0353, 0.0235],\n",
       "         ...,\n",
       "         [0.0980, 0.1020, 0.0980,  ..., 0.0745, 0.0706, 0.0667],\n",
       "         [0.0980, 0.1020, 0.0980,  ..., 0.0745, 0.0706, 0.0627],\n",
       "         [0.0980, 0.0980, 0.0980,  ..., 0.0745, 0.0667, 0.0588]],\n",
       "\n",
       "        [[0.4235, 0.4392, 0.4588,  ..., 0.3686, 0.3412, 0.3098],\n",
       "         [0.4353, 0.4471, 0.4667,  ..., 0.3490, 0.3176, 0.2863],\n",
       "         [0.4392, 0.4588, 0.4784,  ..., 0.3216, 0.2902, 0.2627],\n",
       "         ...,\n",
       "         [0.4784, 0.4824, 0.4863,  ..., 0.4039, 0.3961, 0.3843],\n",
       "         [0.4745, 0.4745, 0.4824,  ..., 0.4000, 0.3882, 0.3804],\n",
       "         [0.4667, 0.4706, 0.4784,  ..., 0.3961, 0.3843, 0.3765]],\n",
       "\n",
       "        [[0.0863, 0.0941, 0.1098,  ..., 0.0549, 0.0314, 0.0039],\n",
       "         [0.0902, 0.1020, 0.1098,  ..., 0.0431, 0.0157, 0.0000],\n",
       "         [0.0941, 0.1059, 0.1137,  ..., 0.0235, 0.0039, 0.0000],\n",
       "         ...,\n",
       "         [0.1020, 0.1059, 0.0980,  ..., 0.0706, 0.0588, 0.0471],\n",
       "         [0.0980, 0.1020, 0.0980,  ..., 0.0667, 0.0549, 0.0510],\n",
       "         [0.0980, 0.0941, 0.0941,  ..., 0.0667, 0.0549, 0.0471]]])"
      ]
     },
     "execution_count": 17,
     "metadata": {
      "tags": []
     },
     "output_type": "execute_result"
    }
   ],
   "source": [
    "img, label = dataset[20]\r\n",
    "print(img.shape, label)\r\n",
    "img"
   ]
  },
  {
   "cell_type": "code",
   "execution_count": 18,
   "metadata": {
    "colab": {
     "base_uri": "https://localhost:8080/"
    },
    "executionInfo": {
     "elapsed": 36998,
     "status": "ok",
     "timestamp": 1610190669320,
     "user": {
      "displayName": "Nayana Kamtekar",
      "photoUrl": "",
      "userId": "11002029202013759766"
     },
     "user_tz": -60
    },
    "id": "WrWH7GqulJ1S",
    "outputId": "9c845673-4c6f-4fff-f76e-99b82f5c6b74"
   },
   "outputs": [
    {
     "name": "stdout",
     "output_type": "stream",
     "text": [
      "['paper', 'rock', 'scissors']\n"
     ]
    }
   ],
   "source": [
    "print(dataset.classes)"
   ]
  },
  {
   "cell_type": "markdown",
   "metadata": {
    "id": "6dNzTOFOoqpE"
   },
   "source": [
    "## **Examples of transformed images**"
   ]
  },
  {
   "cell_type": "code",
   "execution_count": 19,
   "metadata": {
    "executionInfo": {
     "elapsed": 36994,
     "status": "ok",
     "timestamp": 1610190669321,
     "user": {
      "displayName": "Nayana Kamtekar",
      "photoUrl": "",
      "userId": "11002029202013759766"
     },
     "user_tz": -60
    },
    "id": "1FELbxLklWMT"
   },
   "outputs": [],
   "source": [
    "import matplotlib\r\n",
    "import matplotlib.pyplot as plt\r\n",
    "%matplotlib inline\r\n",
    "\r\n",
    "matplotlib.rcParams['figure.facecolor'] = '#ffffff'"
   ]
  },
  {
   "cell_type": "code",
   "execution_count": 20,
   "metadata": {
    "executionInfo": {
     "elapsed": 36989,
     "status": "ok",
     "timestamp": 1610190669321,
     "user": {
      "displayName": "Nayana Kamtekar",
      "photoUrl": "",
      "userId": "11002029202013759766"
     },
     "user_tz": -60
    },
    "id": "LAn50pNzlZSt"
   },
   "outputs": [],
   "source": [
    "def show_example(img, label):\r\n",
    "    print('Label: ', dataset.classes[label], \"(\"+str(label)+\")\")\r\n",
    "    plt.imshow(img.permute(1, 2, 0))"
   ]
  },
  {
   "cell_type": "code",
   "execution_count": 21,
   "metadata": {
    "colab": {
     "base_uri": "https://localhost:8080/",
     "height": 285
    },
    "executionInfo": {
     "elapsed": 37236,
     "status": "ok",
     "timestamp": 1610190669573,
     "user": {
      "displayName": "Nayana Kamtekar",
      "photoUrl": "",
      "userId": "11002029202013759766"
     },
     "user_tz": -60
    },
    "id": "upl6lFzQlfIz",
    "outputId": "d3d73693-df99-4ec2-99fa-8acddfb7db70"
   },
   "outputs": [
    {
     "name": "stdout",
     "output_type": "stream",
     "text": [
      "Label:  paper (0)\n"
     ]
    },
    {
     "data": {
      "image/png": "[encoded data removed]",
      "text/plain": [
       "<Figure size 432x288 with 1 Axes>"
      ]
     },
     "metadata": {
      "tags": []
     },
     "output_type": "display_data"
    }
   ],
   "source": [
    "show_example(*dataset[0])"
   ]
  },
  {
   "cell_type": "code",
   "execution_count": 22,
   "metadata": {
    "colab": {
     "base_uri": "https://localhost:8080/",
     "height": 136
    },
    "executionInfo": {
     "elapsed": 59633,
     "status": "ok",
     "timestamp": 1610190691976,
     "user": {
      "displayName": "Nayana Kamtekar",
      "photoUrl": "",
      "userId": "11002029202013759766"
     },
     "user_tz": -60
    },
    "id": "XD8lg_hMn4po",
    "outputId": "ead7e1b6-c416-4978-85f7-05e8348159bf"
   },
   "outputs": [
    {
     "name": "stdout",
     "output_type": "stream",
     "text": [
      "[jovian] Detected Colab notebook...\u001b[0m\n",
      "[jovian] Please enter your API key ( from https://jovian.ai/ ):\u001b[0m\n",
      "API KEY: ··········\n",
      "[jovian] Uploading colab notebook to Jovian...\u001b[0m\n",
      "[jovian] Capturing environment..\u001b[0m\n",
      "[jovian] Committed successfully! https://jovian.ai/nayanakamtekar/final-project-zero-to-gnas-rockpaperscissors\u001b[0m\n"
     ]
    },
    {
     "data": {
      "application/vnd.google.colaboratory.intrinsic+json": {
       "type": "string"
      },
      "text/plain": [
       "'https://jovian.ai/nayanakamtekar/final-project-zero-to-gnas-rockpaperscissors'"
      ]
     },
     "execution_count": 22,
     "metadata": {
      "tags": []
     },
     "output_type": "execute_result"
    }
   ],
   "source": [
    "jovian.commit(project=project_name)"
   ]
  },
  {
   "cell_type": "markdown",
   "metadata": {
    "id": "sCaynxkBpBgX"
   },
   "source": [
    "## **Split dataset for training, validation and test**"
   ]
  },
  {
   "cell_type": "markdown",
   "metadata": {
    "id": "p_9HQLO6pLrF"
   },
   "source": [
    "Set a random seed so that the random split of dataset will be the same over future runs of the program"
   ]
  },
  {
   "cell_type": "code",
   "execution_count": 23,
   "metadata": {
    "executionInfo": {
     "elapsed": 59630,
     "status": "ok",
     "timestamp": 1610190691978,
     "user": {
      "displayName": "Nayana Kamtekar",
      "photoUrl": "",
      "userId": "11002029202013759766"
     },
     "user_tz": -60
    },
    "id": "rLw6keJXoD2S"
   },
   "outputs": [],
   "source": [
    "random_seed = 50\r\n",
    "torch.manual_seed(random_seed);"
   ]
  },
  {
   "cell_type": "markdown",
   "metadata": {
    "id": "CsJOe-kApbn3"
   },
   "source": [
    "Use 10% of data for test and 5% data for validation. The remaining data (85%) is used data training set"
   ]
  },
  {
   "cell_type": "code",
   "execution_count": 24,
   "metadata": {
    "colab": {
     "base_uri": "https://localhost:8080/"
    },
    "executionInfo": {
     "elapsed": 59628,
     "status": "ok",
     "timestamp": 1610190691980,
     "user": {
      "displayName": "Nayana Kamtekar",
      "photoUrl": "",
      "userId": "11002029202013759766"
     },
     "user_tz": -60
    },
    "id": "NwchHD4_oKpZ",
    "outputId": "fbc8f66c-f5ea-48b5-d6c9-e5e47e0304e0"
   },
   "outputs": [
    {
     "data": {
      "text/plain": [
       "(1861, 218, 109)"
      ]
     },
     "execution_count": 24,
     "metadata": {
      "tags": []
     },
     "output_type": "execute_result"
    }
   ],
   "source": [
    "test_pct = 0.1\r\n",
    "val_pct = 0.05\r\n",
    "test_size = int(len(dataset)*test_pct)\r\n",
    "val_size = int(len(dataset)*val_pct)\r\n",
    "train_size = len(dataset) - test_size - val_size\r\n",
    "\r\n",
    "train_ds, test_ds, val_ds = random_split(dataset, [train_size, test_size, val_size])\r\n",
    "len(train_ds), len(test_ds), len(val_ds)"
   ]
  },
  {
   "cell_type": "markdown",
   "metadata": {
    "id": "JebCVki5p3yx"
   },
   "source": [
    "Next, we can create data loaders for retrieving images in batches.We can now create data loaders for training, validation and test, to load the data in batches"
   ]
  },
  {
   "cell_type": "code",
   "execution_count": 25,
   "metadata": {
    "executionInfo": {
     "elapsed": 59624,
     "status": "ok",
     "timestamp": 1610190691981,
     "user": {
      "displayName": "Nayana Kamtekar",
      "photoUrl": "",
      "userId": "11002029202013759766"
     },
     "user_tz": -60
    },
    "id": "NDfFdQEmo27R"
   },
   "outputs": [],
   "source": [
    "from torch.utils.data.dataloader import DataLoader\r\n",
    "\r\n",
    "batch_size=64"
   ]
  },
  {
   "cell_type": "code",
   "execution_count": 26,
   "metadata": {
    "executionInfo": {
     "elapsed": 59620,
     "status": "ok",
     "timestamp": 1610190691982,
     "user": {
      "displayName": "Nayana Kamtekar",
      "photoUrl": "",
      "userId": "11002029202013759766"
     },
     "user_tz": -60
    },
    "id": "tJTa-EGWo75Z"
   },
   "outputs": [],
   "source": [
    "train_dl = DataLoader(train_ds, batch_size, shuffle=True, num_workers=4, pin_memory=True)\r\n",
    "val_dl = DataLoader(val_ds, batch_size*2, num_workers=4, pin_memory=True)\r\n",
    "test_dl = DataLoader(test_ds, batch_size*2, num_workers=4, pin_memory=True)"
   ]
  },
  {
   "cell_type": "markdown",
   "metadata": {
    "id": "1NfAi9JEqVdG"
   },
   "source": [
    "## **Exploring training datasets**"
   ]
  },
  {
   "cell_type": "markdown",
   "metadata": {
    "id": "ujMI1BrCqkU1"
   },
   "source": [
    "We can look at batches of images from the dataset using the make_grid method from torchvision. Each time the following code is run, we get a different bach, since the sampler shuffles the indices before creating batches."
   ]
  },
  {
   "cell_type": "code",
   "execution_count": 27,
   "metadata": {
    "executionInfo": {
     "elapsed": 59616,
     "status": "ok",
     "timestamp": 1610190691982,
     "user": {
      "displayName": "Nayana Kamtekar",
      "photoUrl": "",
      "userId": "11002029202013759766"
     },
     "user_tz": -60
    },
    "id": "FWbQSqAjpCT9"
   },
   "outputs": [],
   "source": [
    "from torchvision.utils import make_grid\r\n",
    "\r\n",
    "def show_batch(dl):\r\n",
    "    for images, labels in dl:\r\n",
    "        fig, ax = plt.subplots(figsize=(12, 6))\r\n",
    "        ax.set_xticks([]); ax.set_yticks([])\r\n",
    "        ax.imshow(make_grid(images, nrow=16).permute(1, 2, 0))\r\n",
    "        break"
   ]
  },
  {
   "cell_type": "code",
   "execution_count": 28,
   "metadata": {
    "colab": {
     "base_uri": "https://localhost:8080/",
     "height": 203
    },
    "executionInfo": {
     "elapsed": 71683,
     "status": "ok",
     "timestamp": 1610190704054,
     "user": {
      "displayName": "Nayana Kamtekar",
      "photoUrl": "",
      "userId": "11002029202013759766"
     },
     "user_tz": -60
    },
    "id": "ZgUFby_DpGsG",
    "outputId": "281a4b75-fce0-45e6-f22b-0545a4cb112d"
   },
   "outputs": [
    {
     "data": {
      "image/png": "[encoded data removed]",
      "text/plain": [
       "<Figure size 864x432 with 1 Axes>"
      ]
     },
     "metadata": {
      "tags": []
     },
     "output_type": "display_data"
    }
   ],
   "source": [
    "show_batch(train_dl)"
   ]
  },
  {
   "cell_type": "code",
   "execution_count": 29,
   "metadata": {
    "colab": {
     "base_uri": "https://localhost:8080/",
     "height": 86
    },
    "executionInfo": {
     "elapsed": 73160,
     "status": "ok",
     "timestamp": 1610190705538,
     "user": {
      "displayName": "Nayana Kamtekar",
      "photoUrl": "",
      "userId": "11002029202013759766"
     },
     "user_tz": -60
    },
    "id": "J4SiZ93UpRvQ",
    "outputId": "d70950db-de26-4186-f828-209b3925cfd3"
   },
   "outputs": [
    {
     "name": "stdout",
     "output_type": "stream",
     "text": [
      "[jovian] Detected Colab notebook...\u001b[0m\n",
      "[jovian] Uploading colab notebook to Jovian...\u001b[0m\n",
      "[jovian] Committed successfully! https://jovian.ai/nayanakamtekar/final-project-zero-to-gnas-rockpaperscissors\u001b[0m\n"
     ]
    },
    {
     "data": {
      "application/vnd.google.colaboratory.intrinsic+json": {
       "type": "string"
      },
      "text/plain": [
       "'https://jovian.ai/nayanakamtekar/final-project-zero-to-gnas-rockpaperscissors'"
      ]
     },
     "execution_count": 29,
     "metadata": {
      "tags": []
     },
     "output_type": "execute_result"
    }
   ],
   "source": [
    "jovian.commit(project=project_name, environment=None)"
   ]
  },
  {
   "cell_type": "markdown",
   "metadata": {
    "id": "bILdK7z9sps5"
   },
   "source": [
    "## **Model with Residual Blocks and Batch Normalization**\r\n",
    "\r\n",
    "One of the key changes to our CNN model this time is the addition of the resudial block, which adds the original input back to the output feature map obtained by passing the input through one or more convolutional layers.\r\n",
    "\r\n",
    "![](https://miro.medium.com/max/1140/1*D0F3UitQ2l5Q0Ak-tjEdJg.png)\r\n",
    "\r\n",
    "We will use the ResNet9 architecture, as described [in this blog series:](https://jovian.ai/outlink?url=https%3A%2F%2Fwww.myrtle.ai%2F2018%2F09%2F24%2Fhow_to_train_your_resnet%2F)\r\n",
    "\r\n",
    "![](https://github.com/lambdal/cifar10-fast/raw/master/net.svg?sanitize=true)"
   ]
  },
  {
   "cell_type": "code",
   "execution_count": 30,
   "metadata": {
    "executionInfo": {
     "elapsed": 73157,
     "status": "ok",
     "timestamp": 1610190705540,
     "user": {
      "displayName": "Nayana Kamtekar",
      "photoUrl": "",
      "userId": "11002029202013759766"
     },
     "user_tz": -60
    },
    "id": "dIb4e6MSpuJs"
   },
   "outputs": [],
   "source": [
    "import torch.nn as nn\r\n",
    "import torch.nn.functional as F"
   ]
  },
  {
   "cell_type": "code",
   "execution_count": 31,
   "metadata": {
    "executionInfo": {
     "elapsed": 73153,
     "status": "ok",
     "timestamp": 1610190705541,
     "user": {
      "displayName": "Nayana Kamtekar",
      "photoUrl": "",
      "userId": "11002029202013759766"
     },
     "user_tz": -60
    },
    "id": "tL1kk8MKrQ5Y"
   },
   "outputs": [],
   "source": [
    "class ImageClassificationBase(nn.Module):\r\n",
    "    def training_step(self, batch):\r\n",
    "        images, labels = batch \r\n",
    "        out = self(images)                  # Generate predictions\r\n",
    "        loss = F.cross_entropy(out, labels) # Calculate loss\r\n",
    "        return loss\r\n",
    "    \r\n",
    "    def validation_step(self, batch):\r\n",
    "        images, labels = batch \r\n",
    "        out = self(images)                    # Generate predictions\r\n",
    "        loss = F.cross_entropy(out, labels)   # Calculate loss\r\n",
    "        acc = accuracy(out, labels)           # Calculate accuracy\r\n",
    "        return {'val_loss': loss.detach(), 'val_acc': acc}\r\n",
    "        \r\n",
    "    def validation_epoch_end(self, outputs):\r\n",
    "        batch_losses = [x['val_loss'] for x in outputs]\r\n",
    "        epoch_loss = torch.stack(batch_losses).mean()   # Combine losses\r\n",
    "        batch_accs = [x['val_acc'] for x in outputs]\r\n",
    "        epoch_acc = torch.stack(batch_accs).mean()      # Combine accuracies\r\n",
    "        return {'val_loss': epoch_loss.item(), 'val_acc': epoch_acc.item()}\r\n",
    "    \r\n",
    "    def epoch_end(self, epoch, result):\r\n",
    "        print(\"Epoch [{}], train_loss: {:.4f}, val_loss: {:.4f}, val_acc: {:.4f}\".format(\r\n",
    "            epoch, result['train_loss'], result['val_loss'], result['val_acc']))\r\n",
    "        \r\n",
    "def accuracy(outputs, labels):\r\n",
    "    _, preds = torch.max(outputs, dim=1)\r\n",
    "    return torch.tensor(torch.sum(preds == labels).item() / len(preds))"
   ]
  },
  {
   "cell_type": "code",
   "execution_count": 32,
   "metadata": {
    "executionInfo": {
     "elapsed": 73150,
     "status": "ok",
     "timestamp": 1610190705543,
     "user": {
      "displayName": "Nayana Kamtekar",
      "photoUrl": "",
      "userId": "11002029202013759766"
     },
     "user_tz": -60
    },
    "id": "Bv4SBFNytelS"
   },
   "outputs": [],
   "source": [
    "def conv_block(in_channels, out_channels, pool=False):\r\n",
    "    layers = [nn.Conv2d(in_channels, out_channels, kernel_size=3, padding=1), \r\n",
    "              nn.BatchNorm2d(out_channels), \r\n",
    "              nn.ReLU(inplace=True)]\r\n",
    "    if pool: layers.append(nn.MaxPool2d(2))\r\n",
    "    return nn.Sequential(*layers)\r\n",
    "\r\n",
    "class RockPaperScissorsModel(ImageClassificationBase):\r\n",
    "    def __init__(self, in_channels, num_classes):\r\n",
    "        super().__init__()\r\n",
    "        \r\n",
    "        self.conv1 = conv_block(in_channels, 64, pool=True)    # 64 x 32 x 32\r\n",
    "        self.conv2 = conv_block(64, 128, pool=True) # 128 x 16 x 16\r\n",
    "        self.res1 = nn.Sequential(conv_block(128, 128), conv_block(128, 128)) # 128 x 16 x 16\r\n",
    "        \r\n",
    "        self.conv3 = conv_block(128, 256, pool=True) # 256 x 8 x 8\r\n",
    "        self.conv4 = conv_block(256, 512, pool=True) # 512 X 4 x 4\r\n",
    "        self.res2 = nn.Sequential(conv_block(512, 512), conv_block(512, 512)) # 512 x 4 x 4\r\n",
    "        \r\n",
    "        self.classifier = nn.Sequential(nn.MaxPool2d(4), \r\n",
    "                                        nn.Flatten(), \r\n",
    "                                        nn.Dropout(0.2),\r\n",
    "                                        nn.Linear(512, num_classes))\r\n",
    "        \r\n",
    "    def forward(self, xb):\r\n",
    "        out = self.conv1(xb)\r\n",
    "        out = self.conv2(out)\r\n",
    "        out = self.res1(out) + out\r\n",
    "        out = self.conv3(out)\r\n",
    "        out = self.conv4(out)\r\n",
    "        out = self.res2(out) + out\r\n",
    "        out = self.classifier(out)\r\n",
    "        return out"
   ]
  },
  {
   "cell_type": "code",
   "execution_count": 33,
   "metadata": {
    "colab": {
     "base_uri": "https://localhost:8080/"
    },
    "executionInfo": {
     "elapsed": 73147,
     "status": "ok",
     "timestamp": 1610190705544,
     "user": {
      "displayName": "Nayana Kamtekar",
      "photoUrl": "",
      "userId": "11002029202013759766"
     },
     "user_tz": -60
    },
    "id": "sLgiiDgjuIqq",
    "outputId": "c3af0cec-5f0b-49a1-a72f-ac5da73aaf15"
   },
   "outputs": [
    {
     "data": {
      "text/plain": [
       "RockPaperScissorsModel(\n",
       "  (conv1): Sequential(\n",
       "    (0): Conv2d(3, 64, kernel_size=(3, 3), stride=(1, 1), padding=(1, 1))\n",
       "    (1): BatchNorm2d(64, eps=1e-05, momentum=0.1, affine=True, track_running_stats=True)\n",
       "    (2): ReLU(inplace=True)\n",
       "    (3): MaxPool2d(kernel_size=2, stride=2, padding=0, dilation=1, ceil_mode=False)\n",
       "  )\n",
       "  (conv2): Sequential(\n",
       "    (0): Conv2d(64, 128, kernel_size=(3, 3), stride=(1, 1), padding=(1, 1))\n",
       "    (1): BatchNorm2d(128, eps=1e-05, momentum=0.1, affine=True, track_running_stats=True)\n",
       "    (2): ReLU(inplace=True)\n",
       "    (3): MaxPool2d(kernel_size=2, stride=2, padding=0, dilation=1, ceil_mode=False)\n",
       "  )\n",
       "  (res1): Sequential(\n",
       "    (0): Sequential(\n",
       "      (0): Conv2d(128, 128, kernel_size=(3, 3), stride=(1, 1), padding=(1, 1))\n",
       "      (1): BatchNorm2d(128, eps=1e-05, momentum=0.1, affine=True, track_running_stats=True)\n",
       "      (2): ReLU(inplace=True)\n",
       "    )\n",
       "    (1): Sequential(\n",
       "      (0): Conv2d(128, 128, kernel_size=(3, 3), stride=(1, 1), padding=(1, 1))\n",
       "      (1): BatchNorm2d(128, eps=1e-05, momentum=0.1, affine=True, track_running_stats=True)\n",
       "      (2): ReLU(inplace=True)\n",
       "    )\n",
       "  )\n",
       "  (conv3): Sequential(\n",
       "    (0): Conv2d(128, 256, kernel_size=(3, 3), stride=(1, 1), padding=(1, 1))\n",
       "    (1): BatchNorm2d(256, eps=1e-05, momentum=0.1, affine=True, track_running_stats=True)\n",
       "    (2): ReLU(inplace=True)\n",
       "    (3): MaxPool2d(kernel_size=2, stride=2, padding=0, dilation=1, ceil_mode=False)\n",
       "  )\n",
       "  (conv4): Sequential(\n",
       "    (0): Conv2d(256, 512, kernel_size=(3, 3), stride=(1, 1), padding=(1, 1))\n",
       "    (1): BatchNorm2d(512, eps=1e-05, momentum=0.1, affine=True, track_running_stats=True)\n",
       "    (2): ReLU(inplace=True)\n",
       "    (3): MaxPool2d(kernel_size=2, stride=2, padding=0, dilation=1, ceil_mode=False)\n",
       "  )\n",
       "  (res2): Sequential(\n",
       "    (0): Sequential(\n",
       "      (0): Conv2d(512, 512, kernel_size=(3, 3), stride=(1, 1), padding=(1, 1))\n",
       "      (1): BatchNorm2d(512, eps=1e-05, momentum=0.1, affine=True, track_running_stats=True)\n",
       "      (2): ReLU(inplace=True)\n",
       "    )\n",
       "    (1): Sequential(\n",
       "      (0): Conv2d(512, 512, kernel_size=(3, 3), stride=(1, 1), padding=(1, 1))\n",
       "      (1): BatchNorm2d(512, eps=1e-05, momentum=0.1, affine=True, track_running_stats=True)\n",
       "      (2): ReLU(inplace=True)\n",
       "    )\n",
       "  )\n",
       "  (classifier): Sequential(\n",
       "    (0): MaxPool2d(kernel_size=4, stride=4, padding=0, dilation=1, ceil_mode=False)\n",
       "    (1): Flatten(start_dim=1, end_dim=-1)\n",
       "    (2): Dropout(p=0.2, inplace=False)\n",
       "    (3): Linear(in_features=512, out_features=10, bias=True)\n",
       "  )\n",
       ")"
      ]
     },
     "execution_count": 33,
     "metadata": {
      "tags": []
     },
     "output_type": "execute_result"
    }
   ],
   "source": [
    "model = RockPaperScissorsModel(3, 10)\r\n",
    "model"
   ]
  },
  {
   "cell_type": "markdown",
   "metadata": {
    "id": "K3OJnCqFuiwF"
   },
   "source": [
    "Let's verify that the model produces the expected output on a batch of training data. The 10 outputs for each image can be interpreted as probabilities for the 10 target classes (after applying softmax), and the class with the highest probability is chosen as the label predicted by the model for the input image."
   ]
  },
  {
   "cell_type": "code",
   "execution_count": 34,
   "metadata": {
    "colab": {
     "base_uri": "https://localhost:8080/"
    },
    "executionInfo": {
     "elapsed": 75870,
     "status": "ok",
     "timestamp": 1610190708272,
     "user": {
      "displayName": "Nayana Kamtekar",
      "photoUrl": "",
      "userId": "11002029202013759766"
     },
     "user_tz": -60
    },
    "id": "5Ipzkr5_uqa8",
    "outputId": "ee1ff3a2-8a46-4170-cbda-9170c25fab44"
   },
   "outputs": [
    {
     "name": "stdout",
     "output_type": "stream",
     "text": [
      "images.shape: torch.Size([64, 3, 64, 64])\n",
      "out.shape: torch.Size([64, 10])\n",
      "out[0]: tensor([ 1.6293,  1.5814, -3.7492, -0.2336, -0.7361,  0.2876, -3.0150, -3.0018,\n",
      "         1.3478, -1.5967], grad_fn=<SelectBackward>)\n"
     ]
    }
   ],
   "source": [
    "for images, labels in train_dl:\r\n",
    "    print('images.shape:', images.shape)\r\n",
    "    out = model(images)\r\n",
    "    print('out.shape:', out.shape)\r\n",
    "    print('out[0]:', out[0])\r\n",
    "    break"
   ]
  },
  {
   "cell_type": "markdown",
   "metadata": {
    "id": "8SuVhYckuogQ"
   },
   "source": [
    "To seamlessly use a GPU, if one is available, we define a couple of helper functions (`get_default_device` & `to_device`) and a helper class DeviceDataLoader to move our model & data to the GPU as required."
   ]
  },
  {
   "cell_type": "code",
   "execution_count": 35,
   "metadata": {
    "executionInfo": {
     "elapsed": 75865,
     "status": "ok",
     "timestamp": 1610190708272,
     "user": {
      "displayName": "Nayana Kamtekar",
      "photoUrl": "",
      "userId": "11002029202013759766"
     },
     "user_tz": -60
    },
    "id": "LhYipJkzyhAC"
   },
   "outputs": [],
   "source": [
    "def get_default_device():\r\n",
    "    \"\"\"Pick GPU if available, else CPU\"\"\"\r\n",
    "    if torch.cuda.is_available():\r\n",
    "        return torch.device('cuda')\r\n",
    "    else:\r\n",
    "        return torch.device('cpu')\r\n",
    "    \r\n",
    "def to_device(data, device):\r\n",
    "    \"\"\"Move tensor(s) to chosen device\"\"\"\r\n",
    "    if isinstance(data, (list,tuple)):\r\n",
    "        return [to_device(x, device) for x in data]\r\n",
    "    return data.to(device, non_blocking=True)\r\n",
    "\r\n",
    "class DeviceDataLoader():\r\n",
    "    \"\"\"Wrap a dataloader to move data to a device\"\"\"\r\n",
    "    def __init__(self, dl, device):\r\n",
    "        self.dl = dl\r\n",
    "        self.device = device\r\n",
    "        \r\n",
    "    def __iter__(self):\r\n",
    "        \"\"\"Yield a batch of data after moving it to device\"\"\"\r\n",
    "        for b in self.dl: \r\n",
    "            yield to_device(b, self.device)\r\n",
    "\r\n",
    "    def __len__(self):\r\n",
    "        \"\"\"Number of batches\"\"\"\r\n",
    "        return len(self.dl)"
   ]
  },
  {
   "cell_type": "markdown",
   "metadata": {
    "id": "VvzLcMi4u1q2"
   },
   "source": [
    "Based on where you're running this notebook, your default device could be a CPU (`torch.device('cpu'`)) or a GPU (`torch.device('cuda')`)"
   ]
  },
  {
   "cell_type": "code",
   "execution_count": 36,
   "metadata": {
    "colab": {
     "base_uri": "https://localhost:8080/"
    },
    "executionInfo": {
     "elapsed": 75860,
     "status": "ok",
     "timestamp": 1610190708273,
     "user": {
      "displayName": "Nayana Kamtekar",
      "photoUrl": "",
      "userId": "11002029202013759766"
     },
     "user_tz": -60
    },
    "id": "TLYQjPABzPDv",
    "outputId": "d6d75902-d51c-4209-f5ad-5dbde50f1d0f"
   },
   "outputs": [
    {
     "data": {
      "text/plain": [
       "device(type='cuda')"
      ]
     },
     "execution_count": 36,
     "metadata": {
      "tags": []
     },
     "output_type": "execute_result"
    }
   ],
   "source": [
    "device = get_default_device()\r\n",
    "device"
   ]
  },
  {
   "cell_type": "code",
   "execution_count": 37,
   "metadata": {
    "executionInfo": {
     "elapsed": 75854,
     "status": "ok",
     "timestamp": 1610190708273,
     "user": {
      "displayName": "Nayana Kamtekar",
      "photoUrl": "",
      "userId": "11002029202013759766"
     },
     "user_tz": -60
    },
    "id": "ClSSvRQ0zT5x"
   },
   "outputs": [],
   "source": [
    "train_dl = DeviceDataLoader(train_dl, device)\r\n",
    "test_dl = DeviceDataLoader(test_dl, device)\r\n",
    "val_dl = DeviceDataLoader(val_dl, device)\r\n",
    "to_device(model, device);"
   ]
  },
  {
   "cell_type": "code",
   "execution_count": 38,
   "metadata": {
    "colab": {
     "base_uri": "https://localhost:8080/",
     "height": 102
    },
    "executionInfo": {
     "elapsed": 78774,
     "status": "ok",
     "timestamp": 1610190711198,
     "user": {
      "displayName": "Nayana Kamtekar",
      "photoUrl": "",
      "userId": "11002029202013759766"
     },
     "user_tz": -60
    },
    "id": "cvFx8q01zXvd",
    "outputId": "fe058dfb-b6e1-4ddc-fb52-17ccd52371d5"
   },
   "outputs": [
    {
     "name": "stdout",
     "output_type": "stream",
     "text": [
      "[jovian] Detected Colab notebook...\u001b[0m\n",
      "[jovian] Uploading colab notebook to Jovian...\u001b[0m\n",
      "[jovian] Capturing environment..\u001b[0m\n",
      "[jovian] Committed successfully! https://jovian.ai/nayanakamtekar/final-project-zero-to-gnas-rockpaperscissors\u001b[0m\n"
     ]
    },
    {
     "data": {
      "application/vnd.google.colaboratory.intrinsic+json": {
       "type": "string"
      },
      "text/plain": [
       "'https://jovian.ai/nayanakamtekar/final-project-zero-to-gnas-rockpaperscissors'"
      ]
     },
     "execution_count": 38,
     "metadata": {
      "tags": []
     },
     "output_type": "execute_result"
    }
   ],
   "source": [
    "jovian.commit(project=project_name)"
   ]
  },
  {
   "cell_type": "markdown",
   "metadata": {
    "id": "_iFX1xUOwDld"
   },
   "source": [
    "## **Training the model**\r\n",
    "Before we train the model, we're going to make a bunch of small but important improvements to our `fit` function:\r\n",
    "\r\n",
    "* **Learning rate scheduling:** Instead of using a fixed learning rate, we \r\n",
    "will use a learning rate scheduler, which will change the learning rate after every batch of training. There are many strategies for varying the learning rate during training, and the one we'll use is called the \"One Cycle Learning Rate Policy\", which involves starting with a low learning rate, gradually increasing it batch-by-batch to a high learning rate for about 30% of epochs, then gradually decreasing it to a very low value for the remaining epochs. Learn more: https://sgugger.github.io/the-1cycle-policy.html\r\n",
    "\r\n",
    "* **Weight decay:** We also use weight decay, which is yet another regularization technique which prevents the weights from becoming too large by adding an additional term to the loss function.Learn more: https://towardsdatascience.com/this-thing-called-weight-decay-a7cd4bcfccab\r\n",
    "\r\n",
    "* **Gradient clipping:** Apart from the layer weights and outputs, it also helpful to limit the values of gradients to a small range to prevent undesirable changes in parameters due to large gradient values. This simple yet effective technique is called gradient clipping. Learn more: https://towardsdatascience.com/what-is-gradient-clipping-b8e815cdfb48\r\n",
    "\r\n",
    "Let's define a `fit_one_cycle` function to incorporate these changes. We'll also record the learning rate used for each batch."
   ]
  },
  {
   "cell_type": "code",
   "execution_count": 39,
   "metadata": {
    "executionInfo": {
     "elapsed": 78772,
     "status": "ok",
     "timestamp": 1610190711201,
     "user": {
      "displayName": "Nayana Kamtekar",
      "photoUrl": "",
      "userId": "11002029202013759766"
     },
     "user_tz": -60
    },
    "id": "en2icoGzzdSy"
   },
   "outputs": [],
   "source": [
    "@torch.no_grad()\r\n",
    "def evaluate(model, val_loader):\r\n",
    "    model.eval()\r\n",
    "    outputs = [model.validation_step(batch) for batch in val_loader]\r\n",
    "    return model.validation_epoch_end(outputs)\r\n",
    "\r\n",
    "def get_lr(optimizer):\r\n",
    "    for param_group in optimizer.param_groups:\r\n",
    "        return param_group['lr']\r\n",
    "\r\n",
    "    \r\n",
    "def fit_one_cycle(epochs, max_lr, model, train_loader, val_loader, weight_decay=0, grad_clip=None, opt_func=torch.optim.SGD):\r\n",
    "    torch.cuda.empty_cache()\r\n",
    "    history = []\r\n",
    "    \r\n",
    "    optimizer = opt_func(model.parameters(), max_lr, weight_decay=weight_decay)\r\n",
    "    \r\n",
    "    sched = torch.optim.lr_scheduler.OneCycleLR(optimizer, max_lr, epochs=epochs, steps_per_epoch=len(train_loader))\r\n",
    "    \r\n",
    "    \r\n",
    "    for epoch in range(epochs):\r\n",
    "        # Training Phase \r\n",
    "        model.train()\r\n",
    "        train_losses = []\r\n",
    "        lrs = []\r\n",
    "        for batch in train_loader:\r\n",
    "            loss = model.training_step(batch)\r\n",
    "            train_losses.append(loss)\r\n",
    "            loss.backward()\r\n",
    "            if grad_clip:\r\n",
    "                nn.utils.clip_grad_value_(model.parameters(), grad_clip)\r\n",
    "\r\n",
    "            optimizer.step()\r\n",
    "            optimizer.zero_grad()\r\n",
    "            lrs.append(get_lr(optimizer))\r\n",
    "            sched.step()\r\n",
    "            \r\n",
    "        # Validation phase\r\n",
    "        result = evaluate(model, val_loader)\r\n",
    "        result['train_loss'] = torch.stack(train_losses).mean().item()\r\n",
    "        result['lrs'] = lrs\r\n",
    "        model.epoch_end(epoch, result)\r\n",
    "        history.append(result)\r\n",
    "    return history"
   ]
  },
  {
   "cell_type": "code",
   "execution_count": 40,
   "metadata": {
    "colab": {
     "base_uri": "https://localhost:8080/"
    },
    "executionInfo": {
     "elapsed": 79415,
     "status": "ok",
     "timestamp": 1610190711849,
     "user": {
      "displayName": "Nayana Kamtekar",
      "photoUrl": "",
      "userId": "11002029202013759766"
     },
     "user_tz": -60
    },
    "id": "lKE1kHt_zhRg",
    "outputId": "172bad28-e149-4b3f-d236-18cd3274e6c6"
   },
   "outputs": [
    {
     "data": {
      "text/plain": [
       "[{'val_acc': 0.0, 'val_loss': 2.288458824157715}]"
      ]
     },
     "execution_count": 40,
     "metadata": {
      "tags": []
     },
     "output_type": "execute_result"
    }
   ],
   "source": [
    "history = [evaluate(model, val_dl)]\r\n",
    "history"
   ]
  },
  {
   "cell_type": "code",
   "execution_count": 41,
   "metadata": {
    "executionInfo": {
     "elapsed": 79412,
     "status": "ok",
     "timestamp": 1610190711851,
     "user": {
      "displayName": "Nayana Kamtekar",
      "photoUrl": "",
      "userId": "11002029202013759766"
     },
     "user_tz": -60
    },
    "id": "LGz7WzXJz5l-"
   },
   "outputs": [],
   "source": [
    "epochs = 2\r\n",
    "max_lr = 0.01\r\n",
    "grad_clip = 0.1\r\n",
    "weight_decay = 1e-4\r\n",
    "opt_func = torch.optim.Adam"
   ]
  },
  {
   "cell_type": "code",
   "execution_count": 42,
   "metadata": {
    "colab": {
     "base_uri": "https://localhost:8080/"
    },
    "executionInfo": {
     "elapsed": 88421,
     "status": "ok",
     "timestamp": 1610190720866,
     "user": {
      "displayName": "Nayana Kamtekar",
      "photoUrl": "",
      "userId": "11002029202013759766"
     },
     "user_tz": -60
    },
    "id": "IxipttpQ0DK9",
    "outputId": "d01ea037-4acb-4459-9e23-c5fe0a5407d9"
   },
   "outputs": [
    {
     "name": "stdout",
     "output_type": "stream",
     "text": [
      "Epoch [0], train_loss: 0.4556, val_loss: 0.1166, val_acc: 0.9817\n",
      "Epoch [1], train_loss: 0.0379, val_loss: 0.0403, val_acc: 0.9817\n",
      "CPU times: user 1.16 s, sys: 620 ms, total: 1.78 s\n",
      "Wall time: 8.91 s\n"
     ]
    }
   ],
   "source": [
    "%%time\r\n",
    "history = []\r\n",
    "history += fit_one_cycle(epochs, max_lr, model, train_dl, val_dl, \r\n",
    "                             grad_clip=grad_clip, \r\n",
    "                             weight_decay=weight_decay, \r\n",
    "                             opt_func=opt_func)"
   ]
  },
  {
   "cell_type": "code",
   "execution_count": 43,
   "metadata": {
    "executionInfo": {
     "elapsed": 88419,
     "status": "ok",
     "timestamp": 1610190720868,
     "user": {
      "displayName": "Nayana Kamtekar",
      "photoUrl": "",
      "userId": "11002029202013759766"
     },
     "user_tz": -60
    },
    "id": "K53U4aKU1J-B"
   },
   "outputs": [],
   "source": [
    "train_time='00:08.32'"
   ]
  },
  {
   "cell_type": "markdown",
   "metadata": {
    "id": "3NVUqHPlzD13"
   },
   "source": [
    "Our model trained to over 90% accuracy in under 10 minutes!"
   ]
  },
  {
   "cell_type": "markdown",
   "metadata": {
    "id": "SRvkv8cwzPwE"
   },
   "source": [
    "## **Testing with individual images**"
   ]
  },
  {
   "cell_type": "markdown",
   "metadata": {
    "id": "TwrfdeLczVBK"
   },
   "source": [
    "Let's define a helper function predict_image, which returns the predicted label for a single image tensor."
   ]
  },
  {
   "cell_type": "code",
   "execution_count": 44,
   "metadata": {
    "executionInfo": {
     "elapsed": 88416,
     "status": "ok",
     "timestamp": 1610190720870,
     "user": {
      "displayName": "Nayana Kamtekar",
      "photoUrl": "",
      "userId": "11002029202013759766"
     },
     "user_tz": -60
    },
    "id": "wPnljDkd1gUi"
   },
   "outputs": [],
   "source": [
    "def predict_image(img, model):\r\n",
    "    # Convert to a batch of 1\r\n",
    "    xb = to_device(img.unsqueeze(0), device)\r\n",
    "    # Get predictions from model\r\n",
    "    yb = model(xb)\r\n",
    "    # Pick index with highest probability\r\n",
    "    _, preds  = torch.max(yb, dim=1)\r\n",
    "    # Retrieve the class label\r\n",
    "    return dataset.classes[preds[0].item()]"
   ]
  },
  {
   "cell_type": "code",
   "execution_count": 45,
   "metadata": {
    "colab": {
     "base_uri": "https://localhost:8080/",
     "height": 285
    },
    "executionInfo": {
     "elapsed": 88412,
     "status": "ok",
     "timestamp": 1610190720871,
     "user": {
      "displayName": "Nayana Kamtekar",
      "photoUrl": "",
      "userId": "11002029202013759766"
     },
     "user_tz": -60
    },
    "id": "H43nBSTP1jq-",
    "outputId": "39d18703-4061-4d93-c2c7-5a7bce4a0351"
   },
   "outputs": [
    {
     "name": "stdout",
     "output_type": "stream",
     "text": [
      "Label: paper , Predicted: paper\n"
     ]
    },
    {
     "data": {
      "image/png": "[encoded data removed]",
      "text/plain": [
       "<Figure size 432x288 with 1 Axes>"
      ]
     },
     "metadata": {
      "tags": []
     },
     "output_type": "display_data"
    }
   ],
   "source": [
    "img, label = test_ds[0]\r\n",
    "plt.imshow(img.permute(1, 2, 0))\r\n",
    "print('Label:', dataset.classes[label], ', Predicted:', predict_image(img, model))"
   ]
  },
  {
   "cell_type": "code",
   "execution_count": 46,
   "metadata": {
    "colab": {
     "base_uri": "https://localhost:8080/",
     "height": 285
    },
    "executionInfo": {
     "elapsed": 88635,
     "status": "ok",
     "timestamp": 1610190721099,
     "user": {
      "displayName": "Nayana Kamtekar",
      "photoUrl": "",
      "userId": "11002029202013759766"
     },
     "user_tz": -60
    },
    "id": "ZxHpCP891qGD",
    "outputId": "eacdf331-34f1-4294-db04-e8b0ff8f2668"
   },
   "outputs": [
    {
     "name": "stdout",
     "output_type": "stream",
     "text": [
      "Label: paper , Predicted: paper\n"
     ]
    },
    {
     "data": {
      "image/png": "[encoded data removed]",
      "text/plain": [
       "<Figure size 432x288 with 1 Axes>"
      ]
     },
     "metadata": {
      "tags": []
     },
     "output_type": "display_data"
    }
   ],
   "source": [
    "img, label = test_ds[75]\r\n",
    "plt.imshow(img.permute(1, 2, 0))\r\n",
    "print('Label:', dataset.classes[label], ', Predicted:', predict_image(img, model))"
   ]
  },
  {
   "cell_type": "code",
   "execution_count": 47,
   "metadata": {
    "colab": {
     "base_uri": "https://localhost:8080/"
    },
    "executionInfo": {
     "elapsed": 89368,
     "status": "ok",
     "timestamp": 1610190721836,
     "user": {
      "displayName": "Nayana Kamtekar",
      "photoUrl": "",
      "userId": "11002029202013759766"
     },
     "user_tz": -60
    },
    "id": "9g39W-yP1tNt",
    "outputId": "c85ef8f5-428d-45f7-ac4a-9cde3b24cc24"
   },
   "outputs": [
    {
     "data": {
      "text/plain": [
       "{'val_acc': 1.0, 'val_loss': 0.0032071340829133987}"
      ]
     },
     "execution_count": 47,
     "metadata": {
      "tags": []
     },
     "output_type": "execute_result"
    }
   ],
   "source": [
    "result = evaluate(model, test_dl)\r\n",
    "result"
   ]
  },
  {
   "cell_type": "code",
   "execution_count": 48,
   "metadata": {
    "colab": {
     "base_uri": "https://localhost:8080/"
    },
    "executionInfo": {
     "elapsed": 89365,
     "status": "ok",
     "timestamp": 1610190721838,
     "user": {
      "displayName": "Nayana Kamtekar",
      "photoUrl": "",
      "userId": "11002029202013759766"
     },
     "user_tz": -60
    },
    "id": "RlVM2nvuzvIx",
    "outputId": "63fe25ca-236e-4825-fc7f-b1d1623760d1"
   },
   "outputs": [
    {
     "name": "stdout",
     "output_type": "stream",
     "text": [
      "[jovian] Metrics logged.\u001b[0m\n"
     ]
    }
   ],
   "source": [
    "jovian.log_metrics(test_loss=result['val_loss'], test_acc=result['val_acc'])"
   ]
  },
  {
   "cell_type": "markdown",
   "metadata": {
    "id": "se4cYYTwz8qK"
   },
   "source": [
    "## **Saving and loading the model**\r\n",
    "\r\n",
    "Since we've trained our model for a long time and achieved a resonable accuracy, it would be a good idea to save the weights of the model to disk, so that we can reuse the model later and avoid retraining from scratch. Here's how you can save the model."
   ]
  },
  {
   "cell_type": "code",
   "execution_count": 49,
   "metadata": {
    "executionInfo": {
     "elapsed": 89557,
     "status": "ok",
     "timestamp": 1610190722034,
     "user": {
      "displayName": "Nayana Kamtekar",
      "photoUrl": "",
      "userId": "11002029202013759766"
     },
     "user_tz": -60
    },
    "id": "PRKXC8Ht0HhU"
   },
   "outputs": [],
   "source": [
    "torch.save(model.state_dict(), 'rockpaperscissor-resnet.pth')"
   ]
  },
  {
   "cell_type": "markdown",
   "metadata": {
    "id": "eb_JSbGo0QAb"
   },
   "source": [
    "The `.state_dict` method returns an `OrderedDict` containing all the weights and bias matrices mapped to the right attributes of the model. To load the model weights, we can redefine the model with the same structure, and use the `.load_state_dict` method."
   ]
  },
  {
   "cell_type": "code",
   "execution_count": 50,
   "metadata": {
    "executionInfo": {
     "elapsed": 89552,
     "status": "ok",
     "timestamp": 1610190722034,
     "user": {
      "displayName": "Nayana Kamtekar",
      "photoUrl": "",
      "userId": "11002029202013759766"
     },
     "user_tz": -60
    },
    "id": "iiEoz5ff0c_A"
   },
   "outputs": [],
   "source": [
    "model2 = to_device(RockPaperScissorsModel(3,10), device)"
   ]
  },
  {
   "cell_type": "code",
   "execution_count": 51,
   "metadata": {
    "colab": {
     "base_uri": "https://localhost:8080/"
    },
    "executionInfo": {
     "elapsed": 89548,
     "status": "ok",
     "timestamp": 1610190722035,
     "user": {
      "displayName": "Nayana Kamtekar",
      "photoUrl": "",
      "userId": "11002029202013759766"
     },
     "user_tz": -60
    },
    "id": "Ee_hCttM0o_4",
    "outputId": "74ae38b5-c3d8-4901-aeaa-7e97dca5c7a5"
   },
   "outputs": [
    {
     "data": {
      "text/plain": [
       "<All keys matched successfully>"
      ]
     },
     "execution_count": 51,
     "metadata": {
      "tags": []
     },
     "output_type": "execute_result"
    }
   ],
   "source": [
    "model2.load_state_dict(torch.load('rockpaperscissor-resnet.pth'))"
   ]
  },
  {
   "cell_type": "markdown",
   "metadata": {
    "id": "IZqy-dak0xiN"
   },
   "source": [
    "Just as a sanity check, let's verify that this model has the same loss and accuracy on the test set as before."
   ]
  },
  {
   "cell_type": "code",
   "execution_count": 52,
   "metadata": {
    "colab": {
     "base_uri": "https://localhost:8080/"
    },
    "executionInfo": {
     "elapsed": 90420,
     "status": "ok",
     "timestamp": 1610190722912,
     "user": {
      "displayName": "Nayana Kamtekar",
      "photoUrl": "",
      "userId": "11002029202013759766"
     },
     "user_tz": -60
    },
    "id": "Pz0CUF8R0ygU",
    "outputId": "961c4cfc-d6e6-46e4-ad83-9701d2434014"
   },
   "outputs": [
    {
     "data": {
      "text/plain": [
       "{'val_acc': 1.0, 'val_loss': 0.0032071340829133987}"
      ]
     },
     "execution_count": 52,
     "metadata": {
      "tags": []
     },
     "output_type": "execute_result"
    }
   ],
   "source": [
    "evaluate(model2, test_dl)"
   ]
  },
  {
   "cell_type": "code",
   "execution_count": 53,
   "metadata": {
    "colab": {
     "base_uri": "https://localhost:8080/"
    },
    "executionInfo": {
     "elapsed": 90417,
     "status": "ok",
     "timestamp": 1610190722914,
     "user": {
      "displayName": "Nayana Kamtekar",
      "photoUrl": "",
      "userId": "11002029202013759766"
     },
     "user_tz": -60
    },
    "id": "Zf9yaJRr00P8",
    "outputId": "d462315b-6e57-4f73-bb1a-fd22b6ca85a8"
   },
   "outputs": [
    {
     "name": "stdout",
     "output_type": "stream",
     "text": [
      "[jovian] Hyperparams logged.\u001b[0m\n"
     ]
    }
   ],
   "source": [
    "jovian.reset()\r\n",
    "jovian.log_hyperparams(arch='resnet9', \r\n",
    "                       epochs=epochs, \r\n",
    "                       lr=max_lr, \r\n",
    "                       scheduler='one-cycle', \r\n",
    "                       weight_decay=weight_decay, \r\n",
    "                       grad_clip=grad_clip,\r\n",
    "                       opt=opt_func.__name__)"
   ]
  },
  {
   "cell_type": "code",
   "execution_count": 54,
   "metadata": {
    "colab": {
     "base_uri": "https://localhost:8080/"
    },
    "executionInfo": {
     "elapsed": 90627,
     "status": "ok",
     "timestamp": 1610190723128,
     "user": {
      "displayName": "Nayana Kamtekar",
      "photoUrl": "",
      "userId": "11002029202013759766"
     },
     "user_tz": -60
    },
    "id": "aWigrQim1BVg",
    "outputId": "89ab2767-c3d5-4c9e-ba19-9844112b9ccf"
   },
   "outputs": [
    {
     "name": "stdout",
     "output_type": "stream",
     "text": [
      "[jovian] Metrics logged.\u001b[0m\n"
     ]
    }
   ],
   "source": [
    "jovian.log_metrics(val_loss=history[-1]['val_loss'], \r\n",
    "                   val_acc=history[-1]['val_acc'],\r\n",
    "                   train_loss=history[-1]['train_loss'],\r\n",
    "                   time=train_time)"
   ]
  },
  {
   "cell_type": "code",
   "execution_count": 55,
   "metadata": {
    "colab": {
     "base_uri": "https://localhost:8080/",
     "height": 119
    },
    "executionInfo": {
     "elapsed": 93348,
     "status": "ok",
     "timestamp": 1610190725856,
     "user": {
      "displayName": "Nayana Kamtekar",
      "photoUrl": "",
      "userId": "11002029202013759766"
     },
     "user_tz": -60
    },
    "id": "C1GwkprP1cyF",
    "outputId": "83a4c805-5a43-4585-fc57-ff64713fa446"
   },
   "outputs": [
    {
     "name": "stdout",
     "output_type": "stream",
     "text": [
      "[jovian] Detected Colab notebook...\u001b[0m\n",
      "[jovian] Uploading colab notebook to Jovian...\u001b[0m\n",
      "[jovian] Capturing environment..\u001b[0m\n",
      "[jovian] Attaching records (metrics, hyperparameters, dataset etc.)\u001b[0m\n",
      "[jovian] Committed successfully! https://jovian.ai/nayanakamtekar/final-project-zero-to-gnas-rockpaperscissors\u001b[0m\n"
     ]
    },
    {
     "data": {
      "application/vnd.google.colaboratory.intrinsic+json": {
       "type": "string"
      },
      "text/plain": [
       "'https://jovian.ai/nayanakamtekar/final-project-zero-to-gnas-rockpaperscissors'"
      ]
     },
     "execution_count": 55,
     "metadata": {
      "tags": []
     },
     "output_type": "execute_result"
    }
   ],
   "source": [
    "jovian.commit(project=project_name)"
   ]
  }
 ],
 "metadata": {
  "accelerator": "GPU",
  "colab": {
   "collapsed_sections": [],
   "name": "blank-starter.ipynb",
   "provenance": [],
   "toc_visible": true
  },
  "language_info": {
   "codemirror_mode": {
    "name": "ipython",
    "version": 3
   },
   "file_extension": ".py",
   "mimetype": "text/x-python",
   "name": "python",
   "nbconvert_exporter": "python",
   "pygments_lexer": "ipython3",
   "version": "3.7.6"
  }
 },
 "nbformat": 4,
 "nbformat_minor": 0
}